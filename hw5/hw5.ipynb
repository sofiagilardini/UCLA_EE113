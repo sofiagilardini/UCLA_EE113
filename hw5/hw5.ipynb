{
 "cells": [
  {
   "attachments": {},
   "cell_type": "markdown",
   "metadata": {},
   "source": [
    "# HW 5"
   ]
  },
  {
   "cell_type": "code",
   "execution_count": null,
   "metadata": {},
   "outputs": [],
   "source": [
    "import numpy as np\n",
    "import matplotlib.pyplot as plt \n",
    "import time"
   ]
  },
  {
   "cell_type": "code",
   "execution_count": null,
   "metadata": {},
   "outputs": [],
   "source": [
    "# In a terminal install the cvxpy library -> \"pip install cvxpy\" \n",
    "# You may need to add the --user flag if you don't have admin privileges\n",
    "import cvxpy as cp\n",
    "import IPython.display as ipd\n"
   ]
  },
  {
   "attachments": {},
   "cell_type": "markdown",
   "metadata": {},
   "source": [
    "## 1. Optimization"
   ]
  },
  {
   "attachments": {},
   "cell_type": "markdown",
   "metadata": {},
   "source": [
    "In class you have learned how to form optimization problems via formulations of minimization, constraints, and penalties. \n",
    "We will now use the library CVXPY to solve the problem on your quiz as well as create a more elaborate optimization problem."
   ]
  },
  {
   "attachments": {},
   "cell_type": "markdown",
   "metadata": {},
   "source": [
    "### 1.0 CVXPY Tutorial"
   ]
  },
  {
   "attachments": {},
   "cell_type": "markdown",
   "metadata": {},
   "source": [
    "The code block below shows you the basics of using the optimization library. <br>\n",
    "It optimizes the following problem: <br>\n",
    "<br>\n",
    "$argmin_{x} ||y-Ax||^{2}_{2}$ <br>\n",
    "subject to $x \\geq 0$, $x \\leq 1$"
   ]
  },
  {
   "cell_type": "code",
   "execution_count": null,
   "metadata": {},
   "outputs": [],
   "source": [
    "# Problem data.\n",
    "m = 30\n",
    "n = 20\n",
    "np.random.seed(1)\n",
    "A = np.random.randn(m, n) # creates a random matrix of size m x n\n",
    "y =  np.random.randn(m) # creates a random vector of size m\n",
    "\n",
    "# Construct the problem.\n",
    "x = cp.Variable(n) # creates a variable vector of size n to be optimized\n",
    "objective = cp.Minimize(cp.sum_squares(A @ x - y)) # '@' is the matrix multiplication operator\n",
    "constraints = [0 <= x, x <= 1] # creates a list of constraints\n",
    "prob = cp.Problem(objective, constraints)\n",
    "\n",
    "# The optimal objective value is returned by `prob.solve()`.\n",
    "result = prob.solve()\n",
    "# The optimal value for x is stored in `x.value`.\n",
    "print(x.value)"
   ]
  },
  {
   "attachments": {},
   "cell_type": "markdown",
   "metadata": {},
   "source": [
    "### 1.1 Solve Quiz 13 Problem"
   ]
  },
  {
   "attachments": {},
   "cell_type": "markdown",
   "metadata": {},
   "source": [
    "You are tasked with programming the motor of a robotic arm to perform various motions.\n",
    "Your task is to match a theoretical motion, y, with a motion, x, that closely matches it under the\n",
    "physical constraints of the motor. The constraint is that neighboring elements in x cannot have an\n",
    "absolute difference greater than 5 units (the motor cannot have a change in position greater than 5\n",
    "over 1 discrete unit of time). "
   ]
  },
  {
   "attachments": {},
   "cell_type": "markdown",
   "metadata": {},
   "source": [
    "Assume the sampling frequency here is 5 Hz."
   ]
  },
  {
   "cell_type": "code",
   "execution_count": null,
   "metadata": {},
   "outputs": [],
   "source": [
    "# The desired motion is hardcoded in the variable 'y' and plotted below\n",
    "t = np.arange(0,20,1)/5\n",
    "y = np.array([0,6,8,9,10,2,2,2,8,8,8,2,1,1,1,9,1,9,1,0,])\n",
    "\n",
    "plt.figure(figsize=(10,5))\n",
    "plt.plot(t,y, '-o')\n",
    "plt.xlabel('Time (s)')\n",
    "plt.ylabel('Position')\n",
    "plt.title('Desired Motion')\n",
    "plt.show()"
   ]
  },
  {
   "cell_type": "code",
   "execution_count": null,
   "metadata": {},
   "outputs": [],
   "source": [
    "################# Edit the code below to solve for X #################\n",
    "# You may want to create the matrix D here\n",
    "# D = ...\n",
    "\n",
    "x = cp.Variable(n) # creates a variable vector of size n to be optimized\n",
    "objective = cp.Minimize(...) # Fill in the objective function\n",
    "constraints = [...] # Fill in the constraints\n",
    "prob = cp.Problem(objective, constraints)\n",
    "\n",
    "# The optimal objective value is returned by `prob.solve()`.\n",
    "result = prob.solve()\n",
    "# The optimal value for x is stored in `x.value`.\n",
    "print(x.value)\n",
    "\n",
    "# The optimal motion is stored in the variable 'x' and plotted below\n",
    "plt.figure(figsize=(10,5))\n",
    "plt.plot(t, y, '-o', label='Desired Motion')\n",
    "plt.plot(t, x.value, '-o', label='Physically Realizable Motion')\n",
    "plt.xlabel('Time')\n",
    "plt.ylabel('Position')\n",
    "plt.title('Physically Realizable Motion vs. Desired Motion')\n",
    "plt.legend()\n",
    "plt.show()### 1.1 Solve Quiz 13 Problem\n",
    "\n",
    "print(f\"Error between desired and realized motion: {np.sum(np.abs(y-x.value))}\")"
   ]
  },
  {
   "attachments": {},
   "cell_type": "markdown",
   "metadata": {},
   "source": [
    "### 1.2 Adding Penalties"
   ]
  },
  {
   "attachments": {},
   "cell_type": "markdown",
   "metadata": {},
   "source": [
    "Now assume that the robotic arm degrades over time when performing motion at a certain frequency or higher. <br>\n",
    "We would like to add a penalty term to the Minimization to penalize frequecies that are equal to or higher than 1 Hz. <br>\n",
    "Formally, put a penalty on the square of the magnitude of frequencies equal to or higher than 1 Hz. <br>\n",
    "<br>\n",
    "Hint: The function in the cvpxy library 'cp.abs()' may be useful. <br>\n",
    "Suggestion: Writing out the optimization problem on paper first may be helpful."
   ]
  },
  {
   "cell_type": "code",
   "execution_count": null,
   "metadata": {},
   "outputs": [],
   "source": [
    "################# Edit the code below to solve for X #################\n",
    "\n",
    "# You may want to create the matrix D here\n",
    "# D = ...\n",
    "\n",
    "# As well as the DFT matrix\n",
    "# DFT_matrix = ...\n",
    "\n",
    "x = cp.Variable(n) # creates a variable vector of size n to be optimized\n",
    "alpha = 1e-1\n",
    "objective = cp.Minimize(cp.sum_squares(...) + alpha*cp.sum_squares(...)) # Fill in the objective function as well as the penalty term\n",
    "constraints = [...] # Fill in the constraints\n",
    "prob = cp.Problem(objective, constraints)\n",
    "\n",
    "# The optimal objective value is returned by `prob.solve()`.\n",
    "result = prob.solve()\n",
    "# The optimal value for x is stored in `x.value`.\n",
    "print(x.value)\n",
    "\n",
    "# The optimal motion is stored in the variable 'x' and plotted below\n",
    "plt.figure(figsize=(10,5))\n",
    "plt.plot(t, y, '-o', label='Desired Motion')\n",
    "plt.plot(t, x.value, '-o', label='Physically Realizable Motion')\n",
    "plt.xlabel('Time')\n",
    "plt.ylabel('Position')\n",
    "plt.title('Physically Realizable Motion vs. Desired Motion')\n",
    "plt.show()### 1.1 Solve Quiz 13 Problem\n",
    "\n",
    "print(f\"Error between desired and realized motion: {np.sum(np.abs(y-x.value))}\")"
   ]
  },
  {
   "attachments": {},
   "cell_type": "markdown",
   "metadata": {},
   "source": [
    "Question 1: Why is the error between the desired and realized motion larger in Section 1.3 than Section 1.2?\n",
    "\n",
    "Answer: "
   ]
  },
  {
   "attachments": {},
   "cell_type": "markdown",
   "metadata": {},
   "source": [
    "Question 2: Why does the solution in Section 1.3 differ greatly from the solution in Section 1.2 around the time 3-3.5 seconds?\n",
    "\n",
    "Answer: "
   ]
  },
  {
   "attachments": {},
   "cell_type": "markdown",
   "metadata": {},
   "source": [
    "## 2. FFT"
   ]
  },
  {
   "attachments": {},
   "cell_type": "markdown",
   "metadata": {},
   "source": [
    "In HW 4 you were asked to code the DFT and its properties from scratch. Since you know now how it works, we can use Python libraries that have optimized functions for computing the DFT to compare with out Naive implementation."
   ]
  },
  {
   "attachments": {},
   "cell_type": "markdown",
   "metadata": {},
   "source": [
    "### DFT vs. FFT Speed Comparison"
   ]
  },
  {
   "attachments": {},
   "cell_type": "markdown",
   "metadata": {},
   "source": [
    "In this question, we want to measure how fast the FFT is compared to a naive implementation of the DFT. Some helper functions have been added for you. <br>\n",
    "In order to see the difference, plot the time it takes to compute the DFT vs. FFT for different length signals of size (N). Make sure your plot spans from values of N from 2 to 16384."
   ]
  },
  {
   "cell_type": "code",
   "execution_count": null,
   "metadata": {},
   "outputs": [],
   "source": [
    "def get_dft_matrix(x_signal):\n",
    "    N = len(x_signal)\n",
    "    dftmtx = np.fft.fft(np.eye(N))\n",
    "    return dftmtx\n",
    "\n",
    "def dft(x_signal):\n",
    "    dftmtx = get_dft_matrix(x_signal)\n",
    "    return np.matmul(dftmtx, x_signal)\n",
    "\n",
    "def generate_random_signal(N):\n",
    "    return np.random.randn(N)"
   ]
  },
  {
   "cell_type": "code",
   "execution_count": null,
   "metadata": {},
   "outputs": [],
   "source": [
    "################# Write you code and make your plot below in this cell #################\n",
    "# Your generated plot should have two curves, one for DFT and one for FFT\n",
    "# The x-axis should be the length of the signal, and the y-axis should be the time it takes to compute the DFT/FFT\n",
    "# Hint: use the time module and the time.time() function to measure the time it takes for computation\n",
    "# Hint: use the np.fft.fft function to compute the FFT\n",
    "# Hint: Use the functions defined above to compute the DFT\n"
   ]
  },
  {
   "attachments": {},
   "cell_type": "markdown",
   "metadata": {},
   "source": [
    "Question 2: What do you observe about the computational complexity of the naive DFT and FFT algorithms?\n",
    "\n",
    "Answer: "
   ]
  },
  {
   "cell_type": "markdown",
   "metadata": {},
   "source": []
  }
 ],
 "metadata": {
  "kernelspec": {
   "display_name": "mm_p",
   "language": "python",
   "name": "python3"
  },
  "language_info": {
   "codemirror_mode": {
    "name": "ipython",
    "version": 3
   },
   "file_extension": ".py",
   "mimetype": "text/x-python",
   "name": "python",
   "nbconvert_exporter": "python",
   "pygments_lexer": "ipython3",
   "version": "3.8.12"
  },
  "orig_nbformat": 4,
  "vscode": {
   "interpreter": {
    "hash": "7a1f192bbb79fcd4bf341e4c0d7356c02bc04710020f1be0a1cc40835fd7f080"
   }
  }
 },
 "nbformat": 4,
 "nbformat_minor": 2
}
